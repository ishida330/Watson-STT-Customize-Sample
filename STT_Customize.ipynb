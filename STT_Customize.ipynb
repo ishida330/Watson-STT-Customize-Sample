{
 "cells": [
  {
   "cell_type": "markdown",
   "metadata": {},
   "source": [
    "# Watson Speech to Textのカスタマイズ練習用Notebook"
   ]
  },
  {
   "cell_type": "markdown",
   "metadata": {},
   "source": [
    "- [Watson Python SDK](https://github.com/watson-developer-cloud/python-sdk/blob/master/watson_developer_cloud/speech_to_text_v1.py)\n",
    "- データ(MP3や用語辞書、トランスクリプト)も含んでいるので、資格情報だけ代えればこのままでも動きます\n",
    "- ご自身のデータで実行するなら、データを準備の上、1.準備の 固定値のセルの値を変更してください"
   ]
  },
  {
   "cell_type": "markdown",
   "metadata": {},
   "source": [
    "# 1.準備"
   ]
  },
  {
   "cell_type": "markdown",
   "metadata": {},
   "source": [
    "## WatsonのPython SDKを未導入なら導入 [説明](https://github.com/watson-developer-cloud/python-sdk)"
   ]
  },
  {
   "cell_type": "code",
   "execution_count": 1,
   "metadata": {},
   "outputs": [],
   "source": [
    "#!pip install --upgrade watson-developer-cloud\n",
    "from watson_developer_cloud import SpeechToTextV1\n",
    "import json"
   ]
  },
  {
   "cell_type": "markdown",
   "metadata": {},
   "source": [
    "## IBM CloudのSTTサービスの資格情報(Credential)を丸ごとコピペ ( 使うのはapikeyだけ）\n",
    "## ★STTのカスタマイズにはPAYGインスタンスが必要です。Liteプランではできません。"
   ]
  },
  {
   "cell_type": "code",
   "execution_count": 5,
   "metadata": {},
   "outputs": [],
   "source": [
    "Credentials ={\n",
    "  \"apikey\": \"XXXXXXXXXXXXXXXXXXXXXXXXXXXXXXXXXXXXXXXXXX\",\n",
    "  \"iam_apikey_description\": \"XXXXXXXXXXXXXXXXXXXXXXXXXXXXXXXXXXXXXXXXXXXXXXXXXXX\",\n",
    "  \"iam_apikey_name\": \"auto-generated-apikey-XXXXXXXXXXXXXXXXX\",\n",
    "  \"iam_role_crn\": \"crn:v1:bluemix:public:iam::::serviceRole:Manager\",\n",
    "  \"iam_serviceid_crn\": \"crn:v1:bluemix:public:iam-identity::a/XXXXXXXXXXXXXXXXXXXXX\",\n",
    "  \"url\": \"https://stream.watsonplatform.net/speech-to-text/api\"\n",
    "}"
   ]
  },
  {
   "cell_type": "markdown",
   "metadata": {},
   "source": [
    "## インスタンス作成"
   ]
  },
  {
   "cell_type": "code",
   "execution_count": 6,
   "metadata": {},
   "outputs": [],
   "source": [
    "stt = SpeechToTextV1(\n",
    "    iam_apikey=Credentials[\"apikey\"],\n",
    "    url=Credentials[\"url\"])"
   ]
  },
  {
   "cell_type": "markdown",
   "metadata": {},
   "source": [
    "## 固定値のセット\n",
    "### YouTubeの動画 [IBM Q - 量子コンピューター最新情報ならここ！](https://www.youtube.com/watch?v=-CJNJ1ETV5Q&t=33s)から抜いた音声(mp3)を利用"
   ]
  },
  {
   "cell_type": "code",
   "execution_count": 23,
   "metadata": {},
   "outputs": [],
   "source": [
    "AUDIO_FILE = \"mp3/IBMQ-01.mp3\"\n",
    "AUDIO_FORMAT = \"audio/mp3\"\n",
    "BASE_MODEL = \"ja-JP_BroadbandModel\"\n",
    "TRANSCRIPT_TEXT=\"Transcript.txt\"   # コーパス\n",
    "TRANSCRIPT_JSON=\"Transcript.json\"  # 用語辞書\n",
    "ACOUSTIC_FILE = \"mp3/IBMQ-10min.mp3\""
   ]
  },
  {
   "cell_type": "markdown",
   "metadata": {},
   "source": [
    "# 2.通常の（カスタマイズなし）認識"
   ]
  },
  {
   "cell_type": "code",
   "execution_count": 24,
   "metadata": {},
   "outputs": [],
   "source": [
    "def recognizeNormal(audio_file):\n",
    "    with open(audio_file,'rb') as audio_file:\n",
    "        return  stt.recognize(\n",
    "                      audio=audio_file,\n",
    "                      content_type=AUDIO_FORMAT,\n",
    "                      model=BASE_MODEL,\n",
    "                      language_customization_id=None,\n",
    "                      acoustic_customization_id=None,\n",
    "                      base_model_version=None,\n",
    "                      customization_weight=None,\n",
    "                      inactivity_timeout=None,\n",
    "                      keywords=None,\n",
    "                      keywords_threshold=None,\n",
    "                      max_alternatives=None,\n",
    "                      word_alternatives_threshold=None,\n",
    "                      word_confidence=None,\n",
    "                      timestamps=None,\n",
    "                      profanity_filter=None,\n",
    "                      smart_formatting=None,\n",
    "                      speaker_labels=None,\n",
    "                      customization_id=None,\n",
    "                      grammar_name=None,\n",
    "                      redaction=None)\n",
    "    "
   ]
  },
  {
   "cell_type": "code",
   "execution_count": 25,
   "metadata": {},
   "outputs": [
    {
     "data": {
      "text/plain": [
       "{'result_index': 0,\n",
       " 'results': [{'alternatives': [{'confidence': 0.71,\n",
       "     'transcript': 'ええ 、 役立た フロックス なん です けれども 並列 度 って いう 観点 から 見れば ええ ええ 一台 の 濃度 を 見て みる と D_エー 買わない の プロセッサー が 二つ D_エー それぞれ 二十 二個 D_アノー 四名 選定 の やつ プラス 一台 に ええ ええ ＣＴＵ エミリア 文字 で 言えば 六枚 です 刺さって ます で それぞれ D_エー 五千 百 二十個 と いう D_エー 凄い 並列 の です けれども ですから 一 ノード で 三万 を 超える 平熱 道 が あります '}],\n",
       "   'final': True}]}"
      ]
     },
     "execution_count": 25,
     "metadata": {},
     "output_type": "execute_result"
    }
   ],
   "source": [
    "recognizeNormal(audio_file).get_result()"
   ]
  },
  {
   "cell_type": "markdown",
   "metadata": {},
   "source": [
    "# 3.カスタム言語モデル"
   ]
  },
  {
   "cell_type": "markdown",
   "metadata": {},
   "source": [
    "## 現状のカスタム言語モデルをリストする"
   ]
  },
  {
   "cell_type": "code",
   "execution_count": 27,
   "metadata": {},
   "outputs": [],
   "source": [
    "# 整理のため、いったん全部削除する\n",
    "#stt.delete_language_model(customization_id='5f99129a-79f7-4ffc-a58a-9551832cd3c3').get_result()\n",
    "#stt.delete_language_model(customization_id='7ab0f0a3-74b4-4bd5-99d9-211a7319f77e').get_result()"
   ]
  },
  {
   "cell_type": "code",
   "execution_count": 28,
   "metadata": {},
   "outputs": [
    {
     "data": {
      "text/plain": [
       "{'customizations': []}"
      ]
     },
     "execution_count": 28,
     "metadata": {},
     "output_type": "execute_result"
    }
   ],
   "source": [
    "stt.list_language_models(language=None).get_result()"
   ]
  },
  {
   "cell_type": "markdown",
   "metadata": {},
   "source": [
    "## カスタム言語モデルを作成する => IDを入手"
   ]
  },
  {
   "cell_type": "code",
   "execution_count": 29,
   "metadata": {},
   "outputs": [],
   "source": [
    "result = stt.create_language_model(\n",
    "      name=\"IBMQ_LanguageModel\",\n",
    "      base_model_name=BASE_MODEL,\n",
    "      dialect=None,\n",
    "      description=\"IBMQ_LanguageModel\")"
   ]
  },
  {
   "cell_type": "code",
   "execution_count": 30,
   "metadata": {},
   "outputs": [
    {
     "name": "stdout",
     "output_type": "stream",
     "text": [
      "language_customization_id: b5791dd4-f973-4ce2-885c-52228fc3549d\n"
     ]
    }
   ],
   "source": [
    "language_customization_id = result.get_result()[\"customization_id\"]\n",
    "print(\"language_customization_id:\", language_customization_id)"
   ]
  },
  {
   "cell_type": "markdown",
   "metadata": {},
   "source": [
    "## カスタム言語モデルへのコーパスの追加"
   ]
  },
  {
   "cell_type": "code",
   "execution_count": 31,
   "metadata": {},
   "outputs": [
    {
     "data": {
      "text/plain": [
       "{}"
      ]
     },
     "execution_count": 31,
     "metadata": {},
     "output_type": "execute_result"
    }
   ],
   "source": [
    "stt.add_corpus(\n",
    "       customization_id=language_customization_id,\n",
    "       corpus_name=\"IBMQ_Transcrpt\",\n",
    "       corpus_file= TRANSCRIPT_TEXT,\n",
    "       allow_overwrite=True,\n",
    "       corpus_filename=None).get_result()"
   ]
  },
  {
   "cell_type": "markdown",
   "metadata": {},
   "source": [
    "## カスタム言語モデルへの用語の追加（非同期処理)"
   ]
  },
  {
   "cell_type": "code",
   "execution_count": 32,
   "metadata": {},
   "outputs": [],
   "source": [
    "with open(TRANSCRIPT_JSON,'r',encoding=\"utf-8\") as f:\n",
    "    custom_words = json.load(f)[\"words\"]\n",
    "    stt.add_words(\n",
    "         customization_id=language_customization_id,\n",
    "         words=custom_words).get_result()   "
   ]
  },
  {
   "cell_type": "markdown",
   "metadata": {},
   "source": [
    "## 用語追加の完了状況をチェック( 'status': 'ready'になるまで）"
   ]
  },
  {
   "cell_type": "code",
   "execution_count": 33,
   "metadata": {},
   "outputs": [
    {
     "data": {
      "text/plain": [
       "{'base_model_name': 'ja-JP_BroadbandModel',\n",
       " 'created': '2019-03-15T06:45:07.153Z',\n",
       " 'customization_id': 'b5791dd4-f973-4ce2-885c-52228fc3549d',\n",
       " 'description': 'IBMQ_LanguageModel',\n",
       " 'dialect': 'ja-JP',\n",
       " 'language': 'ja-JP',\n",
       " 'name': 'IBMQ_LanguageModel',\n",
       " 'owner': '2841151a-4baa-45c8-9618-5060d4d7beca',\n",
       " 'progress': 0,\n",
       " 'status': 'ready',\n",
       " 'versions': ['ja-JP_BroadbandModel.v2018-03-08']}"
      ]
     },
     "execution_count": 33,
     "metadata": {},
     "output_type": "execute_result"
    }
   ],
   "source": [
    "stt.get_language_model(customization_id=language_customization_id).get_result()"
   ]
  },
  {
   "cell_type": "markdown",
   "metadata": {},
   "source": [
    "## 登録されている用語の確認 "
   ]
  },
  {
   "cell_type": "code",
   "execution_count": 34,
   "metadata": {
    "scrolled": false
   },
   "outputs": [
    {
     "data": {
      "text/plain": [
       "{'words': [{'count': 1,\n",
       "   'display_as': '200',\n",
       "   'sounds_like': ['ニヒャク'],\n",
       "   'source': ['user'],\n",
       "   'word': '200'},\n",
       "  {'count': 1,\n",
       "   'display_as': 'GPU',\n",
       "   'sounds_like': ['ジーピーユー'],\n",
       "   'source': ['user'],\n",
       "   'word': 'GPU'},\n",
       "  {'count': 1,\n",
       "   'display_as': 'NVIDIA',\n",
       "   'sounds_like': ['エヌビディア'],\n",
       "   'source': ['user'],\n",
       "   'word': 'NVIDIA'},\n",
       "  {'count': 1,\n",
       "   'display_as': 'Power9',\n",
       "   'sounds_like': ['パワーナイン'],\n",
       "   'source': ['user'],\n",
       "   'word': 'Power9'},\n",
       "  {'count': 1,\n",
       "   'display_as': 'SMT',\n",
       "   'sounds_like': ['エスエムティ'],\n",
       "   'source': ['user'],\n",
       "   'word': 'SMT'},\n",
       "  {'count': 1,\n",
       "   'display_as': 'コア',\n",
       "   'sounds_like': ['コア'],\n",
       "   'source': ['user'],\n",
       "   'word': 'コア'},\n",
       "  {'count': 1,\n",
       "   'display_as': 'ノード',\n",
       "   'sounds_like': ['ノード'],\n",
       "   'source': ['user'],\n",
       "   'word': 'ノード'},\n",
       "  {'count': 1,\n",
       "   'display_as': 'ペタフロップス',\n",
       "   'sounds_like': ['ペタフロップス'],\n",
       "   'source': ['user'],\n",
       "   'word': 'ペタフロップス'},\n",
       "  {'count': 1,\n",
       "   'display_as': '並列度',\n",
       "   'sounds_like': ['ヘイレツ'],\n",
       "   'source': ['user'],\n",
       "   'word': '並列度'},\n",
       "  {'count': 1,\n",
       "   'display_as': 'Ｔｒａｎｓｃｒｉｐｔ',\n",
       "   'sounds_like': ['ティーアールエーエヌエスシーアールアイピーティー'],\n",
       "   'source': ['IBMQ_Transcrpt'],\n",
       "   'word': 'Ｔｒａｎｓｃｒｉｐｔ'}]}"
      ]
     },
     "execution_count": 34,
     "metadata": {},
     "output_type": "execute_result"
    }
   ],
   "source": [
    "stt.list_words(customization_id=language_customization_id, word_type=None, sort=None).get_result()"
   ]
  },
  {
   "cell_type": "code",
   "execution_count": 35,
   "metadata": {},
   "outputs": [],
   "source": [
    "# エラーがあれば個別に消す\n",
    "#stt.delete_word(customization_id=language_customization_id, word_name='xxx').get_result()"
   ]
  },
  {
   "cell_type": "markdown",
   "metadata": {},
   "source": [
    "## カスタム言語モデルのトレーニング実施"
   ]
  },
  {
   "cell_type": "code",
   "execution_count": 36,
   "metadata": {},
   "outputs": [
    {
     "data": {
      "text/plain": [
       "{}"
      ]
     },
     "execution_count": 36,
     "metadata": {},
     "output_type": "execute_result"
    }
   ],
   "source": [
    "stt.train_language_model(\n",
    "    customization_id=language_customization_id,\n",
    "    word_type_to_add=None,\n",
    "    customization_weight=None).get_result()"
   ]
  },
  {
   "cell_type": "markdown",
   "metadata": {},
   "source": [
    "## トレーニングステータスの確認（status=availableになるまで）"
   ]
  },
  {
   "cell_type": "code",
   "execution_count": 37,
   "metadata": {},
   "outputs": [
    {
     "data": {
      "text/plain": [
       "{'base_model_name': 'ja-JP_BroadbandModel',\n",
       " 'created': '2019-03-15T06:45:07.153Z',\n",
       " 'customization_id': 'b5791dd4-f973-4ce2-885c-52228fc3549d',\n",
       " 'description': 'IBMQ_LanguageModel',\n",
       " 'dialect': 'ja-JP',\n",
       " 'language': 'ja-JP',\n",
       " 'name': 'IBMQ_LanguageModel',\n",
       " 'owner': '2841151a-4baa-45c8-9618-5060d4d7beca',\n",
       " 'progress': 100,\n",
       " 'status': 'available',\n",
       " 'versions': ['ja-JP_BroadbandModel.v2018-03-08']}"
      ]
     },
     "execution_count": 37,
     "metadata": {},
     "output_type": "execute_result"
    }
   ],
   "source": [
    "stt.get_language_model(language_customization_id).get_result()"
   ]
  },
  {
   "cell_type": "markdown",
   "metadata": {},
   "source": [
    "## カスタム言語モデルを使った音声to テキスト変換(STT)実行"
   ]
  },
  {
   "cell_type": "code",
   "execution_count": 38,
   "metadata": {},
   "outputs": [],
   "source": [
    "def recognizeWithLangModel(audio_file):\n",
    "    with open(audio_file,'rb') as audio_file:\n",
    "        return stt.recognize(\n",
    "                      audio=audio_file,\n",
    "                      content_type= AUDIO_FORMAT,\n",
    "                      model= BASE_MODEL,\n",
    "                      language_customization_id=language_customization_id,\n",
    "                      acoustic_customization_id=None,\n",
    "                      base_model_version=None,\n",
    "                      customization_weight=None,\n",
    "                      inactivity_timeout=None,\n",
    "                      keywords=None,\n",
    "                      keywords_threshold=None,\n",
    "                      max_alternatives=None,\n",
    "                      word_alternatives_threshold=None,\n",
    "                      word_confidence=None,\n",
    "                      timestamps=None,\n",
    "                      profanity_filter=None,\n",
    "                      smart_formatting=None,\n",
    "                      speaker_labels=None,\n",
    "                      customization_id=None,\n",
    "                      grammar_name=None,\n",
    "                      redaction=None)"
   ]
  },
  {
   "cell_type": "code",
   "execution_count": 40,
   "metadata": {},
   "outputs": [
    {
     "name": "stdout",
     "output_type": "stream",
     "text": [
      "{'results': [{'alternatives': [{'confidence': 0.78, 'transcript': 'ええ 、 200 ペタフロップス なん です けれども 並列度 載ってる 観点 から 見れば ええ ええ 一台 の ノード を 見て みる と D_エー Power9 プロセッサー が 二つ D_エー それぞれ 二十 二 コア の 四 SMT の やつ プラス 一台 に ええ ええ GPU NVIDIA 文字 で 言えば 六枚 刺さって ます で それぞれ D_エー 五千 百 二十個 と いう D_エー 凄い 並列度 の です けれども ですから 一 ノード で 三万 を 超える 並列度 道 が あります '}], 'final': True}], 'result_index': 0}\n"
     ]
    }
   ],
   "source": [
    "print(recognizeWithLangModel(AUDIO_FILE).result)"
   ]
  },
  {
   "cell_type": "markdown",
   "metadata": {},
   "source": [
    "# 4.カスタム音響モデル"
   ]
  },
  {
   "cell_type": "markdown",
   "metadata": {},
   "source": [
    "## 音響モデルの作成"
   ]
  },
  {
   "cell_type": "code",
   "execution_count": 44,
   "metadata": {},
   "outputs": [],
   "source": [
    "# 整理のため不要なものを消す\n",
    "#stt.delete_acoustic_model(customization_id=\"213ca981-a3d7-4e59-824a-1dbabb4638ef\").get_result()\n",
    "#stt.delete_acoustic_model(customization_id=\"dd4315eb-51c0-44be-94bd-ea7bf4b47639\").get_result()"
   ]
  },
  {
   "cell_type": "code",
   "execution_count": 43,
   "metadata": {},
   "outputs": [
    {
     "data": {
      "text/plain": [
       "{'customizations': []}"
      ]
     },
     "execution_count": 43,
     "metadata": {},
     "output_type": "execute_result"
    }
   ],
   "source": [
    "stt.list_acoustic_models(language=None).get_result()"
   ]
  },
  {
   "cell_type": "code",
   "execution_count": 45,
   "metadata": {},
   "outputs": [
    {
     "data": {
      "text/plain": [
       "{'customization_id': 'f2a631c2-d90a-4d95-bd91-5d6ea512de79'}"
      ]
     },
     "execution_count": 45,
     "metadata": {},
     "output_type": "execute_result"
    }
   ],
   "source": [
    "result = stt.create_acoustic_model(\n",
    "    name=\"IBMQ_AcousticModel\",\n",
    "    base_model_name= BASE_MODEL,\n",
    "    description=\"IBMQ_AcousticModel\")\n",
    "result.get_result()"
   ]
  },
  {
   "cell_type": "code",
   "execution_count": 47,
   "metadata": {},
   "outputs": [
    {
     "name": "stdout",
     "output_type": "stream",
     "text": [
      "f2a631c2-d90a-4d95-bd91-5d6ea512de79\n"
     ]
    }
   ],
   "source": [
    "acoustic_customization_id = result.get_result()[\"customization_id\"]\n",
    "print(acoustic_customization_id)"
   ]
  },
  {
   "cell_type": "markdown",
   "metadata": {},
   "source": [
    "## 定義情報の確認"
   ]
  },
  {
   "cell_type": "code",
   "execution_count": 49,
   "metadata": {},
   "outputs": [
    {
     "data": {
      "text/plain": [
       "{'base_model_name': 'ja-JP_BroadbandModel',\n",
       " 'created': '2019-03-15T07:01:57.753Z',\n",
       " 'customization_id': 'f2a631c2-d90a-4d95-bd91-5d6ea512de79',\n",
       " 'description': 'IBMQ_AcousticModel',\n",
       " 'language': 'ja-JP',\n",
       " 'name': 'IBMQ_AcousticModel',\n",
       " 'owner': '2841151a-4baa-45c8-9618-5060d4d7beca',\n",
       " 'progress': 0,\n",
       " 'status': 'pending',\n",
       " 'versions': ['ja-JP_BroadbandModel.v09-05202016.06202016']}"
      ]
     },
     "execution_count": 49,
     "metadata": {},
     "output_type": "execute_result"
    }
   ],
   "source": [
    "stt.get_acoustic_model(customization_id=acoustic_customization_id).get_result()"
   ]
  },
  {
   "cell_type": "markdown",
   "metadata": {},
   "source": [
    "## 音声サンプルを登録(最低10分-MAX 100MB)　非同期"
   ]
  },
  {
   "cell_type": "code",
   "execution_count": 50,
   "metadata": {},
   "outputs": [],
   "source": [
    "with open(ACOUSTIC_FILE,'rb') as sample_audio:\n",
    "    stt.add_audio(\n",
    "                  customization_id=acoustic_customization_id,\n",
    "                  audio_name=\"IBM-Q-10min\",\n",
    "                  audio_resource=sample_audio,\n",
    "                  content_type= AUDIO_FORMAT,\n",
    "                  contained_content_type=None,\n",
    "                  allow_overwrite=True).get_result()"
   ]
  },
  {
   "cell_type": "markdown",
   "metadata": {},
   "source": [
    "## 登録の処理状況をチェック('status': 'ok'?)"
   ]
  },
  {
   "cell_type": "code",
   "execution_count": 51,
   "metadata": {},
   "outputs": [
    {
     "data": {
      "text/plain": [
       "{'details': {'codec': 'mp3', 'frequency': 44100, 'type': 'audio'},\n",
       " 'duration': 654,\n",
       " 'name': 'IBM-Q-10min',\n",
       " 'status': 'ok'}"
      ]
     },
     "execution_count": 51,
     "metadata": {},
     "output_type": "execute_result"
    }
   ],
   "source": [
    "stt.get_audio(customization_id=acoustic_customization_id, audio_name=\"IBM-Q-10min\").get_result()"
   ]
  },
  {
   "cell_type": "markdown",
   "metadata": {},
   "source": [
    "## 音響モデルのトレーニングの実行(非同期実行）- カスタム言語モデルも併用"
   ]
  },
  {
   "cell_type": "code",
   "execution_count": 52,
   "metadata": {},
   "outputs": [
    {
     "data": {
      "text/plain": [
       "{}"
      ]
     },
     "execution_count": 52,
     "metadata": {},
     "output_type": "execute_result"
    }
   ],
   "source": [
    "stt.train_acoustic_model(\n",
    "    customization_id=acoustic_customization_id,\n",
    "    custom_language_model_id=language_customization_id).get_result()"
   ]
  },
  {
   "cell_type": "markdown",
   "metadata": {},
   "source": [
    "##  トレーニングのステータスの確認 (status = available?)"
   ]
  },
  {
   "cell_type": "code",
   "execution_count": 62,
   "metadata": {},
   "outputs": [
    {
     "data": {
      "text/plain": [
       "{'base_model_name': 'ja-JP_BroadbandModel',\n",
       " 'created': '2019-03-15T07:01:57.753Z',\n",
       " 'customization_id': 'f2a631c2-d90a-4d95-bd91-5d6ea512de79',\n",
       " 'description': 'IBMQ_AcousticModel',\n",
       " 'language': 'ja-JP',\n",
       " 'name': 'IBMQ_AcousticModel',\n",
       " 'owner': '2841151a-4baa-45c8-9618-5060d4d7beca',\n",
       " 'progress': 100,\n",
       " 'status': 'available',\n",
       " 'versions': ['ja-JP_BroadbandModel.v09-05202016.06202016']}"
      ]
     },
     "execution_count": 62,
     "metadata": {},
     "output_type": "execute_result"
    }
   ],
   "source": [
    "stt.get_acoustic_model(customization_id=acoustic_customization_id).get_result() # check status"
   ]
  },
  {
   "cell_type": "markdown",
   "metadata": {},
   "source": [
    "## 音響モデルで認識を実行する"
   ]
  },
  {
   "cell_type": "code",
   "execution_count": 63,
   "metadata": {},
   "outputs": [],
   "source": [
    "def reconnizeWithAcousticModel(audio_file):\n",
    "    with open(audio_file,'rb') as audio_file:\n",
    "        return  stt.recognize(\n",
    "                      audio=audio_file,\n",
    "                      content_type=AUDIO_FORMAT,\n",
    "                      model=BASE_MODEL,\n",
    "                      language_customization_id=language_customization_id,\n",
    "                      acoustic_customization_id=acoustic_customization_id,\n",
    "                      base_model_version=None,\n",
    "                      customization_weight=None,\n",
    "                      inactivity_timeout=None,\n",
    "                      keywords=None,\n",
    "                      keywords_threshold=None,\n",
    "                      max_alternatives=None,\n",
    "                      word_alternatives_threshold=None,\n",
    "                      word_confidence=None,\n",
    "                      timestamps=None,\n",
    "                      profanity_filter=None,\n",
    "                      smart_formatting=None,\n",
    "                      speaker_labels=None,\n",
    "                      customization_id=None,\n",
    "                      grammar_name=None,\n",
    "                      redaction=None)\n"
   ]
  },
  {
   "cell_type": "code",
   "execution_count": 64,
   "metadata": {
    "scrolled": true
   },
   "outputs": [
    {
     "name": "stdout",
     "output_type": "stream",
     "text": [
      "{'results': [{'alternatives': [{'confidence': 0.87, 'transcript': 'D_エー 200 ペタフロップス なん です けれども 並列度 載ってる 観点 から 見れば ええ ええ 一台 の ノード を 見て みる と D_エー Power9 プロセッサー が 二つ D_エー それぞれ 二十 二 コア の 四 SMT の やつ プラス 一台 に '}], 'final': True}, {'alternatives': [{'confidence': 0.91, 'transcript': 'GPU NVIDIA 文字 で 言えば 六枚 '}], 'final': True}, {'alternatives': [{'confidence': 0.88, 'transcript': '刺さって ます で それぞれ D_エー 五千 百 二十個 と いう D_エー 凄い 並列度 の です けれども ですから 一 ノード で 三万 を 超える 並列度 道 が あります '}], 'final': True}], 'result_index': 0}\n"
     ]
    }
   ],
   "source": [
    "print(reconnizeWithAcousticModel(AUDIO_FILE).result)"
   ]
  },
  {
   "cell_type": "code",
   "execution_count": null,
   "metadata": {},
   "outputs": [],
   "source": []
  }
 ],
 "metadata": {
  "kernelspec": {
   "display_name": "Python 3",
   "language": "python",
   "name": "python3"
  },
  "language_info": {
   "codemirror_mode": {
    "name": "ipython",
    "version": 3
   },
   "file_extension": ".py",
   "mimetype": "text/x-python",
   "name": "python",
   "nbconvert_exporter": "python",
   "pygments_lexer": "ipython3",
   "version": "3.6.4"
  }
 },
 "nbformat": 4,
 "nbformat_minor": 2
}
